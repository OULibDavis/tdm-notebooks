{
 "cells": [
  {
   "cell_type": "markdown",
   "id": "9b3de194",
   "metadata": {},
   "source": [
    "<img align=\"left\" src=\"https://ithaka-labs.s3.amazonaws.com/static-files/images/tdm/tdmdocs/CC_BY.png\"><br />\n",
    "\n",
    "Created by [Nathan Kelber](http://nkelber.com) for [JSTOR Labs](https://labs.jstor.org/) under [Creative Commons CC BY License](https://creativecommons.org/licenses/by/4.0/)<br />\n",
    "For questions/comments/improvements, email nathan.kelber@ithaka.org.<br />\n",
    "____"
   ]
  },
  {
   "cell_type": "markdown",
   "id": "c619379c",
   "metadata": {},
   "source": [
    "# Python Basics 5\n",
    "\n",
    "**Description:**\n",
    "This notebook focuses on strings, preparing learners to use:\n",
    "* Escape characters\n",
    "* String methods\n",
    "\n",
    "The lesson ends with the construction of a basic tokenizer.\n",
    "\n",
    "**Use Case:** For Learners (Detailed explanation, not ideal for researchers)\n",
    "\n",
    "**Difficulty:** Beginner\n",
    "\n",
    "**Completion time:** 75-90 minutes\n",
    "\n",
    "**Knowledge Required:** \n",
    "* [Getting Started with Jupyter Notebooks](./getting-started-with-jupyter.ipynb)\n",
    "* [Python Basics 1](./python-basics-1.ipynb)\n",
    "* [Python Basics 2](./python-basics-2.ipynb)\n",
    "* [Python Basics 3](./python-basics-3.ipynb)\n",
    "* [Python Basics 4](./python-basics-4.ipynb)\n",
    "\n",
    "**Knowledge Recommended:** None\n",
    "\n",
    "**Data Format:** None\n",
    "\n",
    "**Libraries Used:**\n",
    "* Counter()\n",
    "\n",
    "**Research Pipeline:** None\n",
    "___"
   ]
  },
  {
   "cell_type": "markdown",
   "id": "76c472c1",
   "metadata": {},
   "source": [
    "## String basics\n",
    "\n",
    "Python strings can use single or double quotes. If the string contains a single quote character, it may be beneficial to use double quotes. Try printing out the string in the next code cell:"
   ]
  },
  {
   "cell_type": "code",
   "execution_count": null,
   "id": "82427fa8",
   "metadata": {},
   "outputs": [],
   "source": [
    "# Print out a string using single or double quotes\n",
    "string = 'Hello World: Here's a string.'\n",
    "print(string)"
   ]
  },
  {
   "cell_type": "markdown",
   "id": "8f0ecf62",
   "metadata": {},
   "source": [
    "An easy solution would be to use double quotes, such as:\n",
    "> string = \"Hello World: Here's a string.\"\n",
    "\n",
    "The use of double quotes keeps Python from ending the string prematurely. But what if your string contains both single and double quotes?\n",
    "\n",
    "### Escape characters\n",
    "\n",
    "In order to insert certain characters into a Python string, we need to use an escape character. An escape character begins with a `\\`. For example, we could insert a single quote into a string surrounded by single quotes by using an escape character."
   ]
  },
  {
   "cell_type": "code",
   "execution_count": null,
   "id": "3789d134",
   "metadata": {},
   "outputs": [],
   "source": [
    "# Print out a single quote in a Python string\n",
    "string = 'There\\'s an escape character in this string.'\n",
    "print(string)"
   ]
  },
  {
   "cell_type": "markdown",
   "id": "d2c92240",
   "metadata": {},
   "source": [
    "The backslash character `\\` in front of the single quote tells Python not to end the string prematurely. Of course, this opens a new question: How do we create a string with a backslash? The answer is another escape character using two backslashes."
   ]
  },
  {
   "cell_type": "code",
   "execution_count": null,
   "id": "5259ad33",
   "metadata": {},
   "outputs": [],
   "source": [
    "# Print a backslash using an escape character\n",
    "string = 'Adding a backslash \\\\ requires an escape character.'\n",
    "print(string)"
   ]
  },
  {
   "cell_type": "markdown",
   "id": "8e0a8229",
   "metadata": {},
   "source": [
    "Another option is to use a raw string, which ignores any escape characters. A raw string simply starts with an `r` similar to an `f` string."
   ]
  },
  {
   "cell_type": "code",
   "execution_count": null,
   "id": "1e2c936a",
   "metadata": {},
   "outputs": [],
   "source": [
    "string = r'No escape characters \\ here'\n",
    "print(string)"
   ]
  },
  {
   "cell_type": "markdown",
   "id": "777c3dad",
   "metadata": {},
   "source": [
    "Escape characters also do more than just allow us to add quotes and backslashes. They are also responsible for string formatting for aspects such as tabs and new lines."
   ]
  },
  {
   "cell_type": "markdown",
   "id": "9d6f8e62",
   "metadata": {},
   "source": [
    "|Code|Result|\n",
    "|---|---|\n",
    "|`\\'`| ' |\n",
    "|`\\\\`| \\ |\n",
    "|`\\t`| tab |\n",
    "|`\\n`| new line|"
   ]
  },
  {
   "cell_type": "code",
   "execution_count": null,
   "id": "0ca47314",
   "metadata": {
    "scrolled": true
   },
   "outputs": [],
   "source": [
    "# Print out a string with two lines\n",
    "string = 'The first line of a string\\nThe second line of a string'\n",
    "print(string)"
   ]
  },
  {
   "cell_type": "markdown",
   "id": "92c9f387",
   "metadata": {},
   "source": [
    "The newline escape character `\\n` can affect readability for many lines. A more readable option is to start a string with a triple quote to start and end the string. This method can also automatically interpret tabs."
   ]
  },
  {
   "cell_type": "code",
   "execution_count": null,
   "id": "5e60b074",
   "metadata": {},
   "outputs": [],
   "source": [
    "# Print out Shakespeare's Sonnet 18\n",
    "string = \"\"\"Shall I compare thee to a summer’s day?\n",
    "Thou art more lovely and more temperate:\n",
    "Rough winds do shake the darling buds of May,\n",
    "And summer’s lease hath all too short a date;\n",
    "Sometime too hot the eye of heaven shines,\n",
    "And often is his gold complexion dimm'd;\n",
    "And every fair from fair sometime declines,\n",
    "By chance or nature’s changing course untrimm'd;\n",
    "But thy eternal summer shall not fade,\n",
    "Nor lose possession of that fair thou ow’st;\n",
    "Nor shall death brag thou wander’st in his shade,\n",
    "When in eternal lines to time thou grow’st:\n",
    "    So long as men can breathe or eyes can see,\n",
    "    So long lives this, and this gives life to thee.\"\"\"\n",
    "\n",
    "print(string)\n"
   ]
  },
  {
   "cell_type": "markdown",
   "id": "d25aa3c5",
   "metadata": {},
   "source": [
    "### String slices\n",
    "The characters of a string can also be indexed and sliced like the items of a list. "
   ]
  },
  {
   "cell_type": "code",
   "execution_count": null,
   "id": "68247bf4",
   "metadata": {},
   "outputs": [],
   "source": [
    "# Using a string index\n",
    "string = 'Python Basics'\n",
    "string[0]"
   ]
  },
  {
   "cell_type": "code",
   "execution_count": null,
   "id": "69fede5a",
   "metadata": {},
   "outputs": [],
   "source": [
    "# Slicing a string\n",
    "string = 'Python Basics'\n",
    "string[0:6]"
   ]
  },
  {
   "cell_type": "markdown",
   "id": "87d47712",
   "metadata": {},
   "source": [
    "## String methods"
   ]
  },
  {
   "cell_type": "markdown",
   "id": "627ab00f",
   "metadata": {},
   "source": [
    "There are a variety of methods for manipulating strings. \n",
    "\n",
    "\n",
    "|Method | Purpose | Form |\n",
    "|---|---|---|\n",
    "|.lower()| change the string to lowercase | string.lower()|\n",
    "|.upper()| change the string to uppercase | string.upper()|\n",
    "|.join()| joins together a list of strings | ' '.join(string_list)|\n",
    "|.split()| splits strings apart | string.split()|\n",
    "|.replace()| replaces characters in a string | string.replace(oldvalue, newvalue)|\n",
    "|.rjust(), .ljust(), .center()| pad out a string | string.rjust(5)|\n",
    "|.rstrip(), .lstrip(), .strip()| strip out whitespace | string.rstrip()|\n"
   ]
  },
  {
   "cell_type": "markdown",
   "id": "dc115416",
   "metadata": {},
   "source": [
    "All of the characters in a string can be lowercased with `.lower()` or uppercased with `.upper()`."
   ]
  },
  {
   "cell_type": "code",
   "execution_count": null,
   "id": "dd711113",
   "metadata": {},
   "outputs": [],
   "source": [
    "# Lowercase a string\n",
    "string = 'Hello World'\n",
    "string.lower()"
   ]
  },
  {
   "cell_type": "markdown",
   "id": "f662ad15",
   "metadata": {},
   "source": [
    "These methods do not change the original string, but they return a string that can be saved to a new variable."
   ]
  },
  {
   "cell_type": "code",
   "execution_count": null,
   "id": "07355978",
   "metadata": {},
   "outputs": [],
   "source": [
    "# The original string is unchanged\n",
    "print(string)\n",
    "\n",
    "# The returned string can be assigned to a new variable\n",
    "new_string = string.upper()\n",
    "print(new_string)"
   ]
  },
  {
   "cell_type": "markdown",
   "id": "ed8475ef",
   "metadata": {},
   "source": [
    "A string can be split on any character, or set of characters, passed into `.split()`. By default, strings are split on any whitespace including spaces, new lines, and tabs."
   ]
  },
  {
   "cell_type": "code",
   "execution_count": null,
   "id": "715edb2a",
   "metadata": {},
   "outputs": [],
   "source": [
    "# Splitting a string on white space\n",
    "string = 'This string will be split on whitespace.'\n",
    "string.split()"
   ]
  },
  {
   "cell_type": "code",
   "execution_count": null,
   "id": "74aa2f03",
   "metadata": {},
   "outputs": [],
   "source": [
    "# Splitting a phone string\n",
    "phone_string = '313-555-3434'\n",
    "phone_string.split('-')"
   ]
  },
  {
   "cell_type": "markdown",
   "id": "19bdaa25",
   "metadata": {},
   "source": [
    "Similarly, lists of strings can be joined together by passing them into `.join()`. A joining string must be specified before the `.join()`, even if it is the empty string `''`."
   ]
  },
  {
   "cell_type": "code",
   "execution_count": null,
   "id": "4a1ac4a0",
   "metadata": {},
   "outputs": [],
   "source": [
    "# List of strings joined together\n",
    "name_list = ['Sam', 'Delilah', 'Jordan']\n",
    "', '.join(name_list)"
   ]
  },
  {
   "cell_type": "markdown",
   "id": "e9ef7c18",
   "metadata": {},
   "source": [
    "The `.strip()` method will strip leading and trailing whitespace (including spaces, tabs, and new lines) from a string. Remember, these changes will not affect the original string, but they can be assigned to a new variable."
   ]
  },
  {
   "cell_type": "code",
   "execution_count": null,
   "id": "eef78d92",
   "metadata": {},
   "outputs": [],
   "source": [
    "# Stripping leading and trailing whitespaces from a string\n",
    "string = '    Python Basics '\n",
    "string.strip()"
   ]
  },
  {
   "cell_type": "markdown",
   "id": "ba3411fd",
   "metadata": {},
   "source": [
    "It is also possible to only strip whitespace from the right or left of a string."
   ]
  },
  {
   "cell_type": "code",
   "execution_count": null,
   "id": "6feb4695",
   "metadata": {},
   "outputs": [],
   "source": [
    "# Stripping leading whitespace from the leftside of a string\n",
    "string = '    Python Basics '\n",
    "string.lstrip()"
   ]
  },
  {
   "cell_type": "markdown",
   "id": "2b5bdf99",
   "metadata": {},
   "source": [
    "Characters in a string can be replaced with other characters using the `.replace()` method."
   ]
  },
  {
   "cell_type": "code",
   "execution_count": null,
   "id": "44f57f41",
   "metadata": {},
   "outputs": [],
   "source": [
    "# Replacing characters in a string with .replace()\n",
    "string = 'Hello world'\n",
    "string.replace('l', 'x')"
   ]
  },
  {
   "cell_type": "code",
   "execution_count": null,
   "id": "64291285",
   "metadata": {},
   "outputs": [],
   "source": [
    "# Removing characters from a string\n",
    "# using .replace with an empty string\n",
    "string = 'Hello! World!'\n",
    "string.replace('!', '')"
   ]
  },
  {
   "cell_type": "markdown",
   "id": "08ce5b1d",
   "metadata": {},
   "source": [
    "Finally, strings can be justified (or padded out) with characters leading, trailing, or both. By default, strings are justified with spaces but other characters can be specified by passing a second argument."
   ]
  },
  {
   "cell_type": "code",
   "execution_count": null,
   "id": "6dd3b489",
   "metadata": {},
   "outputs": [],
   "source": [
    "# Printing a dictionary of contacts in neat columns\n",
    "contacts ={\n",
    " 'Amanda Bennett': 'Engineer, electrical',\n",
    " 'Bryan Miller': 'Radiation protection practitioner',\n",
    " 'Christopher Garrison': 'Planning and development surveyor',\n",
    " 'Debra Allen': 'Intelligence analyst'}\n",
    "\n",
    "print('Name'.ljust(22), 'Occupation')\n",
    "print('|'.center(44, '-'))\n",
    "for name, occupation in contacts.items():\n",
    "    print(name.ljust(20), '|', occupation)"
   ]
  },
  {
   "cell_type": "markdown",
   "id": "54c6f97a",
   "metadata": {},
   "source": [
    "### Checking string contents\n",
    "\n",
    "There are a variety of ways to to verify the contents of a string. These return a Boolean `True` or `False` and are useful for flow control. For example, we can check if a particular set of characters is inside of a string with the `in` and `not in` operators. The result is a Boolean True or False."
   ]
  },
  {
   "cell_type": "code",
   "execution_count": null,
   "id": "f4a960cb",
   "metadata": {},
   "outputs": [],
   "source": [
    "# Check whether a set of characters can be found in a string\n",
    "string = 'Python Basics'\n",
    "'Basics' in string"
   ]
  },
  {
   "cell_type": "markdown",
   "id": "f9f5cd5d",
   "metadata": {},
   "source": [
    "The following string methods also return Boolean `True` or `False` values.\n",
    "\n",
    "|Method | Purpose | Form |\n",
    "|---|---|---|\n",
    "|.startswith(), .endswith()| returns `True` if the string starts/ends with another string | string.startswith('abc')|\n",
    "|.isupper(), .islower()| returns `True` if all characters are upper or lowercase| string.isupper()|\n",
    "|.isalpha()| returns `True` if string is only letters and not blank | string.isalpha()|\n",
    "|.isalnum()| returns `True` if string only letters or numbers but not blank | string.alnum()|\n",
    "|.isdecimal()| returns`True` if string is only numbers and not blank | string.isdecimal()|"
   ]
  },
  {
   "cell_type": "code",
   "execution_count": null,
   "id": "83686070",
   "metadata": {},
   "outputs": [],
   "source": [
    "# Checking if a string starts \n",
    "# with a particular set of characters\n",
    "\n",
    "string = 'Python Basics'\n",
    "string.startswith('Python')"
   ]
  },
  {
   "cell_type": "code",
   "execution_count": null,
   "id": "446c6f2e",
   "metadata": {},
   "outputs": [],
   "source": [
    "# Checking if a string is lowercased\n",
    "string = 'python basics'\n",
    "string.islower()"
   ]
  },
  {
   "cell_type": "code",
   "execution_count": null,
   "id": "7faf2cef",
   "metadata": {},
   "outputs": [],
   "source": [
    "# Checking if a string is alphabet characters\n",
    "string = 'PythonBasics'\n",
    "string.isalpha()"
   ]
  },
  {
   "cell_type": "code",
   "execution_count": null,
   "id": "6e1796b8",
   "metadata": {},
   "outputs": [],
   "source": [
    "# Checking if a string only\n",
    "# alphabetic characters and numbers\n",
    "string = 'PythonBasics5'\n",
    "string.isalnum()"
   ]
  },
  {
   "cell_type": "code",
   "execution_count": null,
   "id": "be02879a",
   "metadata": {},
   "outputs": [],
   "source": [
    "# Checking if a string is only numbers\n",
    "string = '50'\n",
    "string.isdecimal()"
   ]
  },
  {
   "cell_type": "markdown",
   "id": "989e820b",
   "metadata": {},
   "source": [
    "The `.isdecimal()` method does not check to see if a string is a float. It only checks if the string is made of numbers."
   ]
  },
  {
   "cell_type": "code",
   "execution_count": null,
   "id": "030c08dc",
   "metadata": {},
   "outputs": [],
   "source": [
    "# Checking if a string is only numbers\n",
    "string = '5.0'\n",
    "string.isdecimal()"
   ]
  }
 ],
 "metadata": {
  "kernelspec": {
   "display_name": "Python 3 (ipykernel)",
   "language": "python",
   "name": "python3"
  },
  "language_info": {
   "codemirror_mode": {
    "name": "ipython",
    "version": 3
   },
   "file_extension": ".py",
   "mimetype": "text/x-python",
   "name": "python",
   "nbconvert_exporter": "python",
   "pygments_lexer": "ipython3",
   "version": "3.8.8"
  },
  "toc": {
   "base_numbering": 1,
   "nav_menu": {},
   "number_sections": true,
   "sideBar": true,
   "skip_h1_title": true,
   "title_cell": "Table of Contents",
   "title_sidebar": "Contents",
   "toc_cell": false,
   "toc_position": {
    "height": "calc(100% - 180px)",
    "left": "10px",
    "top": "150px",
    "width": "165px"
   },
   "toc_section_display": true,
   "toc_window_display": false
  }
 },
 "nbformat": 4,
 "nbformat_minor": 5
}
